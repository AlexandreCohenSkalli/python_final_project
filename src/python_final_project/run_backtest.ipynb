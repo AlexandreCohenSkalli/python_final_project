{
 "cells": [
  {
   "cell_type": "code",
   "execution_count": 11,
   "metadata": {},
   "outputs": [],
   "source": [
    "from pybacktestchain.broker import Backtest, StopLoss\n",
    "from pybacktestchain.blockchain import load_blockchain\n",
    "from pybacktestchain.data_module import FirstTwoMoments"
   ]
  },
  {
   "cell_type": "code",
   "execution_count": 12,
   "metadata": {},
   "outputs": [
    {
     "name": "stderr",
     "output_type": "stream",
     "text": [
      "INFO:root:Blockchain with name backtest_v2 initialized and stored in the blockchain folder.\n",
      "INFO:root:Running backtest from 2019-01-01 00:00:00 to 2020-01-01 00:00:00.\n",
      "INFO:root:Retrieving price data for universe\n",
      "WARNING:root:Error computing portfolio, returning equal weight portfolio\n",
      "WARNING:root:not enough values to unpack (expected 2, got 0)\n",
      "WARNING:root:Error computing portfolio, returning equal weight portfolio\n",
      "WARNING:root:not enough values to unpack (expected 2, got 0)\n",
      "/Users/alexcohenskalli/my_project_310/lib/python3.10/site-packages/pandas/core/frame.py:11211: RuntimeWarning: Degrees of freedom <= 0 for slice\n",
      "  base_cov = np.cov(mat.T, ddof=ddof)\n",
      "/Users/alexcohenskalli/my_project_310/lib/python3.10/site-packages/numpy/lib/function_base.py:2748: RuntimeWarning: divide by zero encountered in divide\n",
      "  c *= np.true_divide(1, fact)\n",
      "/Users/alexcohenskalli/my_project_310/lib/python3.10/site-packages/numpy/lib/function_base.py:2748: RuntimeWarning: invalid value encountered in multiply\n",
      "  c *= np.true_divide(1, fact)\n",
      "WARNING:root:Error computing portfolio, returning equal weight portfolio\n",
      "WARNING:root:Optimization did not converge\n",
      "INFO:root:-----------------------------------\n",
      "INFO:root:Rebalancing portfolio at 2019-01-31 00:00:00\n",
      "/Users/alexcohenskalli/my_project_310/lib/python3.10/site-packages/pybacktestchain/broker.py:115: FutureWarning: The behavior of DataFrame concatenation with empty or all-NA entries is deprecated. In a future version, this will no longer exclude empty or all-NA columns when determining the result dtypes. To retain the old behavior, exclude the relevant entries before the concat operation.\n",
      "  self.transaction_log = pd.concat([self.transaction_log, transaction], ignore_index=True)\n",
      "INFO:root:-----------------------------------\n",
      "INFO:root:Rebalancing portfolio at 2019-02-28 00:00:00\n",
      "INFO:root:Stop loss triggered for TSLA at 2019-03-06 00:00:00. Selling all shares.\n",
      "INFO:root:-----------------------------------\n",
      "INFO:root:Rebalancing portfolio at 2019-03-29 00:00:00\n",
      "INFO:root:Stop loss triggered for TSLA at 2019-04-26 00:00:00. Selling all shares.\n",
      "INFO:root:-----------------------------------\n",
      "INFO:root:Rebalancing portfolio at 2019-04-30 00:00:00\n",
      "INFO:root:Stop loss triggered for TSLA at 2019-05-18 00:00:00. Selling all shares.\n",
      "INFO:root:-----------------------------------\n",
      "INFO:root:Rebalancing portfolio at 2019-05-31 00:00:00\n",
      "INFO:root:-----------------------------------\n",
      "INFO:root:Rebalancing portfolio at 2019-06-28 00:00:00\n",
      "WARNING:root:Not enough cash to buy 12895 of NVDA on 2019-06-28 00:00:00. Needed: 52311.17405653, Available: 52300.0921254158\n",
      "INFO:root:Buying as many shares of NVDA as possible with available cash.\n",
      "INFO:root:-----------------------------------\n",
      "INFO:root:Rebalancing portfolio at 2019-07-31 00:00:00\n",
      "INFO:root:Stop loss triggered for TSLA at 2019-08-16 00:00:00. Selling all shares.\n",
      "INFO:root:-----------------------------------\n",
      "INFO:root:Rebalancing portfolio at 2019-08-30 00:00:00\n",
      "INFO:root:-----------------------------------\n",
      "INFO:root:Rebalancing portfolio at 2019-09-30 00:00:00\n",
      "INFO:root:-----------------------------------\n",
      "INFO:root:Rebalancing portfolio at 2019-10-31 00:00:00\n",
      "INFO:root:-----------------------------------\n",
      "INFO:root:Rebalancing portfolio at 2019-11-29 00:00:00\n",
      "INFO:root:-----------------------------------\n",
      "INFO:root:Rebalancing portfolio at 2019-12-31 00:00:00\n",
      "WARNING:root:Not enough cash to buy 1703 of CSCO on 2019-12-31 00:00:00. Needed: 69351.88543319702, Available: 69193.71448898315\n",
      "INFO:root:Buying as many shares of CSCO as possible with available cash.\n",
      "INFO:root:Backtest completed. Final portfolio value: 1712575.075012207\n"
     ]
    },
    {
     "name": "stdout",
     "output_type": "stream",
     "text": [
      "--------------------------------------------------------------------------------\n",
      "Block 0\n",
      "--------------------------------------------------------------------------------\n",
      "Backtest: Genesis Block\n",
      "Timestamp: 1735603311.338432\n",
      "Hash: 8ce46dd705c1e071b8a84f54bb13749796972f46d7f766b7080670b63fdb5394\n",
      "Previous Hash: 0\n",
      "--------------------------------------------------------------------------------\n",
      "--------------------------------------------------------------------------------\n",
      "Block 1\n",
      "--------------------------------------------------------------------------------\n",
      "Backtest: PinkTigerChef\n",
      "Timestamp: 1735603325.9889002\n",
      "Hash: 1cb028660eb13816ef8f83571e81d962892ca6c6a019330ea546815be39553c2\n",
      "Previous Hash: 8ce46dd705c1e071b8a84f54bb13749796972f46d7f766b7080670b63fdb5394\n",
      "--------------------------------------------------------------------------------\n",
      "\n",
      "Blockchain is valid: True\n"
     ]
    }
   ],
   "source": [
    "\n",
    "\n",
    "# Configuration du backtest\n",
    "verbose = False  # Désactiver les logs pour éviter trop de bruit\n",
    "backtest = Backtest(\n",
    "    initial_date=datetime(2019, 1, 1),\n",
    "    final_date=datetime(2020, 1, 1),\n",
    "    information_class=FirstTwoMoments,  # Classe d'information corrigée\n",
    "    risk_model=StopLoss,  # Modèle de risque corrigé\n",
    "    name_blockchain=\"backtest_v2\",  # Nom unique pour éviter les conflits\n",
    "    verbose=verbose,\n",
    ")\n",
    "\n",
    "# Lancer le backtest\n",
    "backtest.run_backtest()\n",
    "\n",
    "# Charger et vérifier le blockchain\n",
    "block_chain = load_blockchain(\"backtest_v2\")\n",
    "print(str(block_chain))\n",
    "print(\"Blockchain is valid:\", block_chain.is_valid())\n"
   ]
  },
  {
   "cell_type": "code",
   "execution_count": null,
   "metadata": {},
   "outputs": [],
   "source": []
  }
 ],
 "metadata": {
  "kernelspec": {
   "display_name": "Python (my_project_310)",
   "language": "python",
   "name": "my_project_310"
  },
  "language_info": {
   "codemirror_mode": {
    "name": "ipython",
    "version": 3
   },
   "file_extension": ".py",
   "mimetype": "text/x-python",
   "name": "python",
   "nbconvert_exporter": "python",
   "pygments_lexer": "ipython3",
   "version": "3.10.7"
  }
 },
 "nbformat": 4,
 "nbformat_minor": 2
}
